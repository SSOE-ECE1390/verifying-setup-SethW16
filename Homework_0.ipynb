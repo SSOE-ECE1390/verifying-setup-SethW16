{
 "cells": [
  {
   "cell_type": "markdown",
   "metadata": {},
   "source": [
    "# <font style=\"color:black\">Lecture 1: Homework Problem</font>\n",
    "\n",
    "In this first homework set, I want you to make sure that you can use GitHub, MS Code, and OpenCV.\n",
    "You should (already to be able to read this document), clone the Github classroom assignment and edit it in VS Code.  In this python notebook, do the following:\n",
    "\n",
    "* Load an (Grayscale) image  (‘Data/Apollo_11_Launch.jpg’)\n",
    "* View image\n",
    "* Crop image\n",
    "* Edit brightness of image\n",
    "* Rotate image\n",
    "* Save modified image"
   ]
  },
  {
   "cell_type": "code",
   "execution_count": 1,
   "metadata": {},
   "outputs": [],
   "source": [
    "import cv2\n",
    "\n",
    "# Load the image in grayscale\n",
    "image = cv2.imread('Data/Apollo_11_Launch.jpg', cv2.IMREAD_GRAYSCALE)\n",
    "\n",
    "# Display the image\n",
    "cv2.imshow('Grayscale Image', image)\n",
    "cv2.waitKey(0)\n",
    "cv2.destroyAllWindows()"
   ]
  },
  {
   "cell_type": "code",
   "execution_count": 2,
   "metadata": {},
   "outputs": [],
   "source": [
    "import cv2\n",
    "\n",
    "# Define the coordinates for cropping (x_start, y_start, width, height)\n",
    "x_start = 50   # x coordinate of the top-left corner\n",
    "y_start = 50   # y coordinate of the top-left corner\n",
    "width = 200    # width of the cropping rectangle\n",
    "height = 200   # height of the cropping rectangle\n",
    "\n",
    "# Crop the image\n",
    "cropped_image = image[y_start:y_start + height, x_start:x_start + width]\n",
    "\n",
    "# Display the original and cropped images\n",
    "cv2.imshow('Original Image', image)\n",
    "cv2.imshow('Cropped Image', cropped_image)\n",
    "\n",
    "# Wait for a key press\n",
    "cv2.waitKey(0)\n",
    "\n",
    "# Close all OpenCV windows\n",
    "cv2.destroyAllWindows()"
   ]
  },
  {
   "cell_type": "code",
   "execution_count": 3,
   "metadata": {},
   "outputs": [],
   "source": [
    "import cv2\n",
    "\n",
    "# Define the brightness adjustment value\n",
    "brightness_value = 50  # Positive value increases brightness, negative decreases it\n",
    "\n",
    "# Adjust brightness\n",
    "bright_image = cv2.add(image, brightness_value)\n",
    "\n",
    "# Display the original and brightened images\n",
    "cv2.imshow('Original Image', image)\n",
    "cv2.imshow('Brightened Image', bright_image)\n",
    "\n",
    "# Wait for a key press\n",
    "cv2.waitKey(0)\n",
    "\n",
    "# Close all OpenCV windows\n",
    "cv2.destroyAllWindows()"
   ]
  },
  {
   "cell_type": "code",
   "execution_count": 5,
   "metadata": {},
   "outputs": [],
   "source": [
    "import cv2\n",
    "\n",
    "# Get the dimensions of the image\n",
    "(h, w) = image.shape[:2]\n",
    "\n",
    "# Specify the center of rotation\n",
    "center = (w // 2, h // 2)\n",
    "\n",
    "# Specify the rotation angle (e.g., 45 degrees)\n",
    "angle = 45\n",
    "\n",
    "# Create the rotation matrix\n",
    "M = cv2.getRotationMatrix2D(center, angle, 1.0)  # The last parameter is the scale\n",
    "\n",
    "# Perform the rotation\n",
    "rotated_image = cv2.warpAffine(image, M, (w, h))\n",
    "\n",
    "# Save the rotated image\n",
    "cv2.imwrite('rotated_image.jpg', rotated_image)\n",
    "\n",
    "# Display the original and rotated images\n",
    "cv2.imshow('Original Image', image)\n",
    "cv2.imshow('Rotated Image', rotated_image)\n",
    "\n",
    "# Wait for a key press\n",
    "cv2.waitKey(0)\n",
    "\n",
    "# Close all OpenCV windows\n",
    "cv2.destroyAllWindows()"
   ]
  }
 ],
 "metadata": {
  "kernelspec": {
   "display_name": "ECE1390",
   "language": "python",
   "name": "python3"
  },
  "language_info": {
   "codemirror_mode": {
    "name": "ipython",
    "version": 3
   },
   "file_extension": ".py",
   "mimetype": "text/x-python",
   "name": "python",
   "nbconvert_exporter": "python",
   "pygments_lexer": "ipython3",
   "version": "3.12.11"
  }
 },
 "nbformat": 4,
 "nbformat_minor": 2
}
